{
 "cells": [
  {
   "cell_type": "code",
   "execution_count": 1,
   "id": "71ecdfa4",
   "metadata": {},
   "outputs": [
    {
     "ename": "NameError",
     "evalue": "name 'python' is not defined",
     "output_type": "error",
     "traceback": [
      "\u001b[31m---------------------------------------------------------------------------\u001b[39m",
      "\u001b[31mNameError\u001b[39m                                 Traceback (most recent call last)",
      "\u001b[36mCell\u001b[39m\u001b[36m \u001b[39m\u001b[32mIn[1]\u001b[39m\u001b[32m, line 1\u001b[39m\n\u001b[32m----> \u001b[39m\u001b[32m1\u001b[39m \u001b[43mpython\u001b[49m -- version\n",
      "\u001b[31mNameError\u001b[39m: name 'python' is not defined"
     ]
    }
   ],
   "source": [
    "python -- version\n"
   ]
  },
  {
   "cell_type": "code",
   "execution_count": 9,
   "id": "0da9b2e4",
   "metadata": {},
   "outputs": [
    {
     "name": "stdout",
     "output_type": "stream",
     "text": [
      "Hello World\n"
     ]
    }
   ],
   "source": [
    "print(\"Hello World\")\n"
   ]
  },
  {
   "cell_type": "code",
   "execution_count": 10,
   "id": "3fee3e30",
   "metadata": {},
   "outputs": [
    {
     "name": "stdout",
     "output_type": "stream",
     "text": [
      "4\n"
     ]
    }
   ],
   "source": [
    "print(2+2)\n"
   ]
  },
  {
   "cell_type": "code",
   "execution_count": 11,
   "id": "954312a1",
   "metadata": {},
   "outputs": [
    {
     "name": "stdout",
     "output_type": "stream",
     "text": [
      "22\n"
     ]
    }
   ],
   "source": [
    "print(\"2\"+\"2\")"
   ]
  },
  {
   "cell_type": "code",
   "execution_count": 12,
   "id": "974f0c86",
   "metadata": {},
   "outputs": [
    {
     "name": "stdout",
     "output_type": "stream",
     "text": [
      "10\n"
     ]
    }
   ],
   "source": [
    "a=10\n",
    "print (a) "
   ]
  },
  {
   "cell_type": "code",
   "execution_count": 13,
   "id": "bdca7b6f",
   "metadata": {},
   "outputs": [
    {
     "data": {
      "text/plain": [
       "int"
      ]
     },
     "execution_count": 13,
     "metadata": {},
     "output_type": "execute_result"
    }
   ],
   "source": [
    "type(a)"
   ]
  },
  {
   "cell_type": "code",
   "execution_count": 14,
   "id": "b9ff5ace",
   "metadata": {},
   "outputs": [],
   "source": [
    "a=\"aasha\""
   ]
  },
  {
   "cell_type": "code",
   "execution_count": 15,
   "id": "d08b7722",
   "metadata": {},
   "outputs": [],
   "source": [
    "a = 'aasha'"
   ]
  },
  {
   "cell_type": "code",
   "execution_count": 20,
   "id": "87b8768f",
   "metadata": {},
   "outputs": [
    {
     "name": "stdout",
     "output_type": "stream",
     "text": [
      "aasha 301 20\n"
     ]
    }
   ],
   "source": [
    "name  = \"aasha\"\n",
    "roll_no = 301\n",
    "age = 20\n",
    "print(name,roll_no,age)\n"
   ]
  },
  {
   "cell_type": "code",
   "execution_count": 22,
   "id": "9740dc60",
   "metadata": {},
   "outputs": [
    {
     "name": "stdout",
     "output_type": "stream",
     "text": [
      "aasha \n",
      " 20 \n",
      " 301\n"
     ]
    }
   ],
   "source": [
    "print (name,\"\\n\",age,\"\\n\",roll_no)"
   ]
  },
  {
   "cell_type": "code",
   "execution_count": 23,
   "id": "e56576d9",
   "metadata": {},
   "outputs": [
    {
     "name": "stdout",
     "output_type": "stream",
     "text": [
      "(name) (age) (roll_no)\n"
     ]
    }
   ],
   "source": [
    "print (f'(name)','(age)','(roll_no)')"
   ]
  },
  {
   "cell_type": "code",
   "execution_count": 24,
   "id": "37ac7124",
   "metadata": {},
   "outputs": [
    {
     "name": "stdout",
     "output_type": "stream",
     "text": [
      "10 20 30\n"
     ]
    }
   ],
   "source": [
    "a,b,c = 10, 20, 30\n",
    "print(a,b,c)"
   ]
  },
  {
   "cell_type": "code",
   "execution_count": 25,
   "id": "34b89b82",
   "metadata": {},
   "outputs": [
    {
     "name": "stdout",
     "output_type": "stream",
     "text": [
      "(5+7j)\n"
     ]
    }
   ],
   "source": [
    "x=2+3J\n",
    "y= 3+4J\n",
    "print(x+y)"
   ]
  },
  {
   "cell_type": "code",
   "execution_count": 29,
   "id": "3b6715ff",
   "metadata": {},
   "outputs": [
    {
     "name": "stdout",
     "output_type": "stream",
     "text": [
      "2.0\n"
     ]
    }
   ],
   "source": [
    "print(x.real)"
   ]
  },
  {
   "cell_type": "code",
   "execution_count": 28,
   "id": "c947aded",
   "metadata": {},
   "outputs": [
    {
     "name": "stdout",
     "output_type": "stream",
     "text": [
      "(2-3j)\n"
     ]
    }
   ],
   "source": [
    "print(x.conjugate())    "
   ]
  },
  {
   "cell_type": "code",
   "execution_count": null,
   "id": "559d6158",
   "metadata": {},
   "outputs": [],
   "source": []
  },
  {
   "cell_type": "code",
   "execution_count": 35,
   "id": "e717ba58",
   "metadata": {},
   "outputs": [
    {
     "name": "stdout",
     "output_type": "stream",
     "text": [
      "\n"
     ]
    },
    {
     "data": {
      "text/plain": [
       "str"
      ]
     },
     "execution_count": 35,
     "metadata": {},
     "output_type": "execute_result"
    }
   ],
   "source": [
    "x = input(\"please entrer your age\")\n",
    "print(x)\n",
    "type(x)\n",
    "\n",
    "z= int (x)"
   ]
  },
  {
   "cell_type": "code",
   "execution_count": 36,
   "id": "74969e18",
   "metadata": {},
   "outputs": [
    {
     "name": "stdout",
     "output_type": "stream",
     "text": [
      "aasha\n"
     ]
    }
   ],
   "source": [
    "a = \"aasha\"\n",
    "print(a)\n"
   ]
  },
  {
   "cell_type": "code",
   "execution_count": 42,
   "id": "937f3f5d",
   "metadata": {},
   "outputs": [
    {
     "name": "stdout",
     "output_type": "stream",
     "text": [
      "ia \n"
     ]
    }
   ],
   "source": [
    "text=\"i am learning python\"\n",
    "print(a[0:5:2])"
   ]
  },
  {
   "cell_type": "code",
   "execution_count": 40,
   "id": "bd8ace32",
   "metadata": {},
   "outputs": [
    {
     "name": "stdout",
     "output_type": "stream",
     "text": [
      "nohtyp gninrael ma i\n"
     ]
    }
   ],
   "source": [
    "print(a[::-1])"
   ]
  },
  {
   "cell_type": "code",
   "execution_count": 43,
   "id": "290dbd19",
   "metadata": {},
   "outputs": [
    {
     "name": "stdout",
     "output_type": "stream",
     "text": [
      "i am learning python\n",
      "I AM LEARNING PYTHON\n",
      "i am learning python\n",
      "I Am Learning Python\n",
      "i am learning python\n",
      "['i', 'am', 'learning', 'python']\n",
      "['i', 'am', 'learning', 'python']\n"
     ]
    }
   ],
   "source": [
    "print(text.lower())\n",
    "print(text.upper()) \n",
    "print(text.strip())\n",
    "print(text.title())\n",
    "print(text.replace(\"Python\",\"c++\"))\n",
    "print(text.split())\n",
    "print(text.split(\" \",-1))\n",
    "\n"
   ]
  },
  {
   "cell_type": "code",
   "execution_count": 45,
   "id": "40ce4683",
   "metadata": {},
   "outputs": [
    {
     "name": "stdout",
     "output_type": "stream",
     "text": [
      "['i', 'am', 'learning', 'python']\n"
     ]
    }
   ],
   "source": [
    "print(text.split())"
   ]
  },
  {
   "cell_type": "code",
   "execution_count": null,
   "id": "1625ea30",
   "metadata": {},
   "outputs": [],
   "source": []
  }
 ],
 "metadata": {
  "kernelspec": {
   "display_name": "Python 3",
   "language": "python",
   "name": "python3"
  },
  "language_info": {
   "codemirror_mode": {
    "name": "ipython",
    "version": 3
   },
   "file_extension": ".py",
   "mimetype": "text/x-python",
   "name": "python",
   "nbconvert_exporter": "python",
   "pygments_lexer": "ipython3",
   "version": "3.13.2"
  }
 },
 "nbformat": 4,
 "nbformat_minor": 5
}
